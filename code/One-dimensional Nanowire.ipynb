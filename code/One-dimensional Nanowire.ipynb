{
 "cells": [
  {
   "cell_type": "markdown",
   "metadata": {},
   "source": [
    "# One-dimensional Nanowire\n",
    "I will use this notebook to study transport in a one-dimensional nanowire connected to contacts kept at a finite bias."
   ]
  },
  {
   "cell_type": "code",
   "execution_count": 24,
   "metadata": {
    "collapsed": true
   },
   "outputs": [],
   "source": [
    "import numpy as np\n",
    "import matplotlib.pyplot as plt\n",
    "%matplotlib inline\n",
    "\n",
    "import itertools\n",
    "import scipy.optimize"
   ]
  },
  {
   "cell_type": "markdown",
   "metadata": {},
   "source": [
    "## Device Hamiltonian\n",
    "The first step is to define a Hamiltonian for the conductor region which will be coupled to two contacts. I will use a tight-binding Hamiltonian with a position dependent potential."
   ]
  },
  {
   "cell_type": "code",
   "execution_count": 4,
   "metadata": {
    "collapsed": true
   },
   "outputs": [],
   "source": [
    "def V(x):\n",
    "    '''\n",
    "    Potential function inside the conductor region.\n",
    "    '''\n",
    "    return 0.0\n",
    "\n",
    "def create_Hamiltonian(params):\n",
    "    '''\n",
    "    Return a matrix representation of Hamiltonian in the position basis.\n",
    "    '''\n",
    "    # number of device points\n",
    "    N_d = params['N_d']\n",
    "    t = params['t']\n",
    "   \n",
    "    # matrix element of the Hamiltonain in the position basis\n",
    "    def matrix_element(x,y):\n",
    "        if x == y:\n",
    "            return V(x) + 2*t\n",
    "        elif x == y + 1: \n",
    "            return -t\n",
    "        elif x == y - 1:\n",
    "            return np.conj(-t)\n",
    "        else:\n",
    "            return 0.0\n",
    "        \n",
    "    basis = np.arange(N_d)\n",
    "    H = np.array([matrix_element(x,y) for x in basis for y in basis]).reshape(len(basis),len(basis))\n",
    "    \n",
    "    return H"
   ]
  },
  {
   "cell_type": "code",
   "execution_count": 110,
   "metadata": {},
   "outputs": [
    {
     "name": "stdout",
     "output_type": "stream",
     "text": [
      "[[ 2. -1.  0.  0.]\n",
      " [-1.  2. -1.  0.]\n",
      " [ 0. -1.  2. -1.]\n",
      " [ 0.  0. -1.  2.]]\n"
     ]
    }
   ],
   "source": [
    "params = {\n",
    "    'N_d' : 4,\n",
    "    't' : 1.0,\n",
    "}\n",
    "\n",
    "H = create_Hamiltonian(params)\n",
    "print(H)"
   ]
  },
  {
   "cell_type": "markdown",
   "metadata": {},
   "source": [
    "## Density of States\n",
    "The next step is to find a density of states as a function of energy in the Hamiltonian."
   ]
  },
  {
   "cell_type": "code",
   "execution_count": 111,
   "metadata": {},
   "outputs": [],
   "source": [
    "def dos(E,H,eta = 1e-8):\n",
    "    '''\n",
    "    Returns the density of states for the Hamiltonian H at energy E\n",
    "    eta is the parameter used in the Green's function calculation, ideally it should be set to a fraction of the\n",
    "    grid spacing in the E_vec over which the dos is being calculated.\n",
    "    '''\n",
    "    G = np.linalg.inv((E + 1j*eta).reshape(-1,1,1)*np.eye(H.shape[0]).reshape(1,H.shape[0],H.shape[1]) - H)\n",
    "    A = 1j*(G - np.transpose(np.conj(G),(0,2,1)))\n",
    "    # casting to real done to avoid problems later with plotting\n",
    "    a = np.real(np.trace(A,axis1=-1,axis2=-2))\n",
    "    return a"
   ]
  },
  {
   "cell_type": "code",
   "execution_count": 112,
   "metadata": {},
   "outputs": [],
   "source": [
    "E_vec = np.linspace(0,4,10000)\n",
    "eta = (E_vec[1] - E_vec[0])\n",
    "dos_vec = dos(E_vec,H,eta)"
   ]
  },
  {
   "cell_type": "code",
   "execution_count": 113,
   "metadata": {},
   "outputs": [
    {
     "data": {
      "text/plain": [
       "<matplotlib.text.Text at 0x106277d68>"
      ]
     },
     "execution_count": 113,
     "metadata": {},
     "output_type": "execute_result"
    },
    {
     "data": {
      "image/png": "[encoded data removed]",
      "text/plain": [
       "<matplotlib.figure.Figure at 0x108f1fba8>"
      ]
     },
     "metadata": {},
     "output_type": "display_data"
    }
   ],
   "source": [
    "plt.plot(E_vec,dos_vec)\n",
    "plt.xlabel('Energy')\n",
    "plt.ylabel('Density of States')"
   ]
  },
  {
   "cell_type": "markdown",
   "metadata": {},
   "source": [
    "# Contact Self-Energy\n",
    "In order to include the effect of the contacts, they are handled by introduction of a self-energy in the Green's function calculation."
   ]
  },
  {
   "cell_type": "markdown",
   "metadata": {},
   "source": [
    "### Calculation of the surface Green's function\n",
    "Self-Energy calculation will proceed in two steps. First the surface Green's function for each contact is calculated."
   ]
  },
  {
   "cell_type": "code",
   "execution_count": 114,
   "metadata": {
    "collapsed": true
   },
   "outputs": [],
   "source": [
    "def calc_surface_g(E,params,eta = 1e-8,eps = 1e-4,N_lim = 10000):\n",
    "    '''\n",
    "    Return the surface Green's function at energy E for a one-dimensional nanowire\n",
    "    eta is used to calculated the Green's function\n",
    "    eps controls the acurray to which the surface Green's function is calculated.\n",
    "    N_lim is the limit on number of iterations, else it raises an Exception\n",
    "    '''\n",
    "    t = params['t']\n",
    "    \n",
    "    g = 0\n",
    "    # intial error\n",
    "    err = 1.0\n",
    "    n_iter = 0\n",
    "    while err > eps:\n",
    "        g_new = 1.0/((E + 1j*eta) - 2*t - t*g*np.conj(t))\n",
    "        g_new = 0.5*(g + g_new)\n",
    "        err = np.abs(g - g_new)\n",
    "        \n",
    "        g = g_new\n",
    "        n_iter += 1\n",
    "        \n",
    "        if(n_iter > N_lim):\n",
    "            raise Exception(\"Convergence failed in surface_g calculation at E = \" + str(E))\n",
    "       \n",
    "    return g"
   ]
  },
  {
   "cell_type": "code",
   "execution_count": 115,
   "metadata": {
    "collapsed": true
   },
   "outputs": [],
   "source": [
    "# alternate implementation of calc_surface_g\n",
    "def calc_surface_g(E,params,eta = 1e-8,eps = 1e-4,N_lim = 10000):\n",
    "    '''\n",
    "    Return the surface Green's function at energy E for a one-dimensional nanowire\n",
    "    eta is used to calculated the Green's function\n",
    "    eps controls the acurray to which the surface Green's function is calculated.\n",
    "    N_lim is the limit on number of iterations, else it raises an Exception\n",
    "    '''\n",
    "    t = params['t']\n",
    "   \n",
    "    def func(g,E,t,eta):\n",
    "        return 1.0/((E + 1j*eta) - 2*t - t*g*np.conj(t))\n",
    "   \n",
    "    g = scipy.optimize.fixed_point(func,np.zeros(len(E)),args=(E,t,eta),xtol=eps)\n",
    "    return g"
   ]
  },
  {
   "cell_type": "code",
   "execution_count": 116,
   "metadata": {},
   "outputs": [],
   "source": [
    "# testing of the surface-g calculation\n",
    "E_vec = np.linspace(0,4,1000)\n",
    "eta = (E_vec[1] - E_vec[0])\n",
    "g_vec = calc_surface_g(E_vec,params,eta)"
   ]
  },
  {
   "cell_type": "code",
   "execution_count": 119,
   "metadata": {},
   "outputs": [
    {
     "data": {
      "text/plain": [
       "<matplotlib.legend.Legend at 0x109092160>"
      ]
     },
     "execution_count": 119,
     "metadata": {},
     "output_type": "execute_result"
    },
    {
     "data": {
      "image/png": "[encoded data removed]",
      "text/plain": [
       "<matplotlib.figure.Figure at 0x10f60e048>"
      ]
     },
     "metadata": {},
     "output_type": "display_data"
    }
   ],
   "source": [
    "plt.plot(E_vec,np.real(g_vec),label=\"Real\")\n",
    "plt.plot(E_vec,np.imag(g_vec),label=\"Imaginary\")\n",
    "plt.xlabel('Energy')\n",
    "plt.legend()"
   ]
  },
  {
   "cell_type": "code",
   "execution_count": null,
   "metadata": {
    "collapsed": true
   },
   "outputs": [],
   "source": []
  }
 ],
 "metadata": {
  "kernelspec": {
   "display_name": "Python 3",
   "language": "python",
   "name": "python3"
  },
  "language_info": {
   "codemirror_mode": {
    "name": "ipython",
    "version": 3
   },
   "file_extension": ".py",
   "mimetype": "text/x-python",
   "name": "python",
   "nbconvert_exporter": "python",
   "pygments_lexer": "ipython3",
   "version": "3.5.2"
  }
 },
 "nbformat": 4,
 "nbformat_minor": 2
}
